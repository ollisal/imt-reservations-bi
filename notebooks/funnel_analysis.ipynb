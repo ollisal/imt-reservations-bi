{
 "cells": [
  {
   "cell_type": "markdown",
   "id": "b8eced01",
   "metadata": {},
   "source": [
    "# IMT.fi Funnel Analysis 2019-2024\n",
    "\n",
    "Olli Salli, 2025"
   ]
  },
  {
   "cell_type": "code",
   "execution_count": null,
   "id": "714bb783",
   "metadata": {},
   "outputs": [],
   "source": [
    "# Standard data packages\n",
    "import pandas as pd\n",
    "import numpy as np\n",
    "\n",
    "# Visualization\n",
    "import matplotlib.pyplot as plt\n",
    "import seaborn as sns\n",
    "\n",
    "# For connecting to your warehouse (adjust as needed)\n",
    "from sqlalchemy import create_engine, text\n",
    "\n",
    "# Display options\n",
    "pd.set_option(\"display.max_columns\", None)\n",
    "sns.set_theme(style=\"whitegrid\")\n"
   ]
  },
  {
   "cell_type": "code",
   "execution_count": null,
   "id": "e67511f8",
   "metadata": {},
   "outputs": [],
   "source": [
    "import redshift_connector\n",
    "import pandas as pd\n",
    "import yaml\n",
    "from pathlib import Path\n",
    "\n",
    "# Avoid error from stock psycopg2 trying to set \"standad_conforming_strings\" setting\n",
    "from sqlalchemy.dialects import registry\n",
    "from sqlalchemy.dialects.postgresql.psycopg2 import PGDialect_psycopg2\n",
    "class RedshiftPostgresDialect(PGDialect_psycopg2):\n",
    "    def _set_backslash_escapes(self, connection):\n",
    "        self._backslash_escapes = \"off\"\n",
    "registry.register(\"redshift_custom\", __name__, \"RedshiftPostgresDialect\")\n",
    "\n",
    "# Load from dbt profiles.yml\n",
    "with open(Path.home() / \".dbt\" / \"profiles.yml\") as f:\n",
    "    profiles = yaml.safe_load(f)\n",
    "\n",
    "p = profiles[\"imt_aws_redshift\"][\"outputs\"][\"dev\"]\n",
    "\n",
    "engine = create_engine(\n",
    "    f'redshift_custom://{p[\"user\"]}:{p[\"password\"]}@{p[\"host\"]}:5439/{p[\"dbname\"]}',\n",
    "    connect_args={\n",
    "        \"sslmode\": \"require\"\n",
    "    }\n",
    ")\n",
    "\n",
    "with engine.connect() as conn:\n",
    "    print(\"✅ Connected to Redshift\")\n",
    "\n",
    "def run_query(sql: str, params=None):\n",
    "    from sqlalchemy import text\n",
    "    with engine.connect() as conn:\n",
    "        return pd.read_sql(text(sql), conn, params=params or {})\n"
   ]
  },
  {
   "cell_type": "markdown",
   "id": "2ef19a22",
   "metadata": {},
   "source": [
    "## Overall reservation completion comparison"
   ]
  },
  {
   "cell_type": "code",
   "execution_count": null,
   "id": "e5cf5ce7",
   "metadata": {},
   "outputs": [],
   "source": [
    "query = \"\"\"\n",
    "SELECT\n",
    "        departureyear,\n",
    "        COUNT(*) AS total_reservations,\n",
    "        SUM(CASE WHEN finalstage = 'Confirmed' THEN 1 ELSE 0 END) AS confirmed\n",
    "    FROM dbt_osalli.fct_reservation_funnel\n",
    "    WHERE departuredate BETWEEN :start AND :end\n",
    "    GROUP BY departureyear\n",
    "    ORDER BY departureyear\n",
    "\"\"\"\n",
    "\n",
    "df = run_query(query, params={\"start\": \"2019-01-01\", \"end\": \"2024-12-31\"})\n",
    "df"
   ]
  }
 ],
 "metadata": {
  "kernelspec": {
   "display_name": "venv",
   "language": "python",
   "name": "python3"
  },
  "language_info": {
   "codemirror_mode": {
    "name": "ipython",
    "version": 3
   },
   "file_extension": ".py",
   "mimetype": "text/x-python",
   "name": "python",
   "nbconvert_exporter": "python",
   "pygments_lexer": "ipython3",
   "version": "3.11.9"
  }
 },
 "nbformat": 4,
 "nbformat_minor": 5
}
